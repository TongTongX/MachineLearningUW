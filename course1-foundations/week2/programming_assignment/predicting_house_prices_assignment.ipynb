{
 "cells": [
  {
   "cell_type": "code",
   "execution_count": 1,
   "metadata": {
    "collapsed": true
   },
   "outputs": [],
   "source": [
    "import graphlab"
   ]
  },
  {
   "cell_type": "code",
   "execution_count": 2,
   "metadata": {
    "collapsed": false
   },
   "outputs": [
    {
     "name": "stdout",
     "output_type": "stream",
     "text": [
      "This non-commercial license of GraphLab Create for academic use is assigned to xutong@ualberta.ca and will expire on April 05, 2018.\n"
     ]
    },
    {
     "name": "stderr",
     "output_type": "stream",
     "text": [
      "[INFO] graphlab.cython.cy_server: GraphLab Create v2.1 started. Logging: C:\\Users\\TongTong\\AppData\\Local\\Temp\\graphlab_server_1491770329.log.0\n"
     ]
    }
   ],
   "source": [
    "sales = graphlab.SFrame(\"home_data.gl/\")"
   ]
  },
  {
   "cell_type": "code",
   "execution_count": 3,
   "metadata": {
    "collapsed": false
   },
   "outputs": [
    {
     "data": {
      "text/html": [
       "<div style=\"max-height:1000px;max-width:1500px;overflow:auto;\"><table frame=\"box\" rules=\"cols\">\n",
       "    <tr>\n",
       "        <th style=\"padding-left: 1em; padding-right: 1em; text-align: center\">id</th>\n",
       "        <th style=\"padding-left: 1em; padding-right: 1em; text-align: center\">date</th>\n",
       "        <th style=\"padding-left: 1em; padding-right: 1em; text-align: center\">price</th>\n",
       "        <th style=\"padding-left: 1em; padding-right: 1em; text-align: center\">bedrooms</th>\n",
       "        <th style=\"padding-left: 1em; padding-right: 1em; text-align: center\">bathrooms</th>\n",
       "        <th style=\"padding-left: 1em; padding-right: 1em; text-align: center\">sqft_living</th>\n",
       "        <th style=\"padding-left: 1em; padding-right: 1em; text-align: center\">sqft_lot</th>\n",
       "        <th style=\"padding-left: 1em; padding-right: 1em; text-align: center\">floors</th>\n",
       "        <th style=\"padding-left: 1em; padding-right: 1em; text-align: center\">waterfront</th>\n",
       "    </tr>\n",
       "    <tr>\n",
       "        <td style=\"padding-left: 1em; padding-right: 1em; text-align: center; vertical-align: top\">7129300520</td>\n",
       "        <td style=\"padding-left: 1em; padding-right: 1em; text-align: center; vertical-align: top\">2014-10-13 00:00:00+00:00</td>\n",
       "        <td style=\"padding-left: 1em; padding-right: 1em; text-align: center; vertical-align: top\">221900</td>\n",
       "        <td style=\"padding-left: 1em; padding-right: 1em; text-align: center; vertical-align: top\">3</td>\n",
       "        <td style=\"padding-left: 1em; padding-right: 1em; text-align: center; vertical-align: top\">1</td>\n",
       "        <td style=\"padding-left: 1em; padding-right: 1em; text-align: center; vertical-align: top\">1180</td>\n",
       "        <td style=\"padding-left: 1em; padding-right: 1em; text-align: center; vertical-align: top\">5650</td>\n",
       "        <td style=\"padding-left: 1em; padding-right: 1em; text-align: center; vertical-align: top\">1</td>\n",
       "        <td style=\"padding-left: 1em; padding-right: 1em; text-align: center; vertical-align: top\">0</td>\n",
       "    </tr>\n",
       "    <tr>\n",
       "        <td style=\"padding-left: 1em; padding-right: 1em; text-align: center; vertical-align: top\">6414100192</td>\n",
       "        <td style=\"padding-left: 1em; padding-right: 1em; text-align: center; vertical-align: top\">2014-12-09 00:00:00+00:00</td>\n",
       "        <td style=\"padding-left: 1em; padding-right: 1em; text-align: center; vertical-align: top\">538000</td>\n",
       "        <td style=\"padding-left: 1em; padding-right: 1em; text-align: center; vertical-align: top\">3</td>\n",
       "        <td style=\"padding-left: 1em; padding-right: 1em; text-align: center; vertical-align: top\">2.25</td>\n",
       "        <td style=\"padding-left: 1em; padding-right: 1em; text-align: center; vertical-align: top\">2570</td>\n",
       "        <td style=\"padding-left: 1em; padding-right: 1em; text-align: center; vertical-align: top\">7242</td>\n",
       "        <td style=\"padding-left: 1em; padding-right: 1em; text-align: center; vertical-align: top\">2</td>\n",
       "        <td style=\"padding-left: 1em; padding-right: 1em; text-align: center; vertical-align: top\">0</td>\n",
       "    </tr>\n",
       "    <tr>\n",
       "        <td style=\"padding-left: 1em; padding-right: 1em; text-align: center; vertical-align: top\">5631500400</td>\n",
       "        <td style=\"padding-left: 1em; padding-right: 1em; text-align: center; vertical-align: top\">2015-02-25 00:00:00+00:00</td>\n",
       "        <td style=\"padding-left: 1em; padding-right: 1em; text-align: center; vertical-align: top\">180000</td>\n",
       "        <td style=\"padding-left: 1em; padding-right: 1em; text-align: center; vertical-align: top\">2</td>\n",
       "        <td style=\"padding-left: 1em; padding-right: 1em; text-align: center; vertical-align: top\">1</td>\n",
       "        <td style=\"padding-left: 1em; padding-right: 1em; text-align: center; vertical-align: top\">770</td>\n",
       "        <td style=\"padding-left: 1em; padding-right: 1em; text-align: center; vertical-align: top\">10000</td>\n",
       "        <td style=\"padding-left: 1em; padding-right: 1em; text-align: center; vertical-align: top\">1</td>\n",
       "        <td style=\"padding-left: 1em; padding-right: 1em; text-align: center; vertical-align: top\">0</td>\n",
       "    </tr>\n",
       "    <tr>\n",
       "        <td style=\"padding-left: 1em; padding-right: 1em; text-align: center; vertical-align: top\">2487200875</td>\n",
       "        <td style=\"padding-left: 1em; padding-right: 1em; text-align: center; vertical-align: top\">2014-12-09 00:00:00+00:00</td>\n",
       "        <td style=\"padding-left: 1em; padding-right: 1em; text-align: center; vertical-align: top\">604000</td>\n",
       "        <td style=\"padding-left: 1em; padding-right: 1em; text-align: center; vertical-align: top\">4</td>\n",
       "        <td style=\"padding-left: 1em; padding-right: 1em; text-align: center; vertical-align: top\">3</td>\n",
       "        <td style=\"padding-left: 1em; padding-right: 1em; text-align: center; vertical-align: top\">1960</td>\n",
       "        <td style=\"padding-left: 1em; padding-right: 1em; text-align: center; vertical-align: top\">5000</td>\n",
       "        <td style=\"padding-left: 1em; padding-right: 1em; text-align: center; vertical-align: top\">1</td>\n",
       "        <td style=\"padding-left: 1em; padding-right: 1em; text-align: center; vertical-align: top\">0</td>\n",
       "    </tr>\n",
       "    <tr>\n",
       "        <td style=\"padding-left: 1em; padding-right: 1em; text-align: center; vertical-align: top\">1954400510</td>\n",
       "        <td style=\"padding-left: 1em; padding-right: 1em; text-align: center; vertical-align: top\">2015-02-18 00:00:00+00:00</td>\n",
       "        <td style=\"padding-left: 1em; padding-right: 1em; text-align: center; vertical-align: top\">510000</td>\n",
       "        <td style=\"padding-left: 1em; padding-right: 1em; text-align: center; vertical-align: top\">3</td>\n",
       "        <td style=\"padding-left: 1em; padding-right: 1em; text-align: center; vertical-align: top\">2</td>\n",
       "        <td style=\"padding-left: 1em; padding-right: 1em; text-align: center; vertical-align: top\">1680</td>\n",
       "        <td style=\"padding-left: 1em; padding-right: 1em; text-align: center; vertical-align: top\">8080</td>\n",
       "        <td style=\"padding-left: 1em; padding-right: 1em; text-align: center; vertical-align: top\">1</td>\n",
       "        <td style=\"padding-left: 1em; padding-right: 1em; text-align: center; vertical-align: top\">0</td>\n",
       "    </tr>\n",
       "    <tr>\n",
       "        <td style=\"padding-left: 1em; padding-right: 1em; text-align: center; vertical-align: top\">7237550310</td>\n",
       "        <td style=\"padding-left: 1em; padding-right: 1em; text-align: center; vertical-align: top\">2014-05-12 00:00:00+00:00</td>\n",
       "        <td style=\"padding-left: 1em; padding-right: 1em; text-align: center; vertical-align: top\">1225000</td>\n",
       "        <td style=\"padding-left: 1em; padding-right: 1em; text-align: center; vertical-align: top\">4</td>\n",
       "        <td style=\"padding-left: 1em; padding-right: 1em; text-align: center; vertical-align: top\">4.5</td>\n",
       "        <td style=\"padding-left: 1em; padding-right: 1em; text-align: center; vertical-align: top\">5420</td>\n",
       "        <td style=\"padding-left: 1em; padding-right: 1em; text-align: center; vertical-align: top\">101930</td>\n",
       "        <td style=\"padding-left: 1em; padding-right: 1em; text-align: center; vertical-align: top\">1</td>\n",
       "        <td style=\"padding-left: 1em; padding-right: 1em; text-align: center; vertical-align: top\">0</td>\n",
       "    </tr>\n",
       "    <tr>\n",
       "        <td style=\"padding-left: 1em; padding-right: 1em; text-align: center; vertical-align: top\">1321400060</td>\n",
       "        <td style=\"padding-left: 1em; padding-right: 1em; text-align: center; vertical-align: top\">2014-06-27 00:00:00+00:00</td>\n",
       "        <td style=\"padding-left: 1em; padding-right: 1em; text-align: center; vertical-align: top\">257500</td>\n",
       "        <td style=\"padding-left: 1em; padding-right: 1em; text-align: center; vertical-align: top\">3</td>\n",
       "        <td style=\"padding-left: 1em; padding-right: 1em; text-align: center; vertical-align: top\">2.25</td>\n",
       "        <td style=\"padding-left: 1em; padding-right: 1em; text-align: center; vertical-align: top\">1715</td>\n",
       "        <td style=\"padding-left: 1em; padding-right: 1em; text-align: center; vertical-align: top\">6819</td>\n",
       "        <td style=\"padding-left: 1em; padding-right: 1em; text-align: center; vertical-align: top\">2</td>\n",
       "        <td style=\"padding-left: 1em; padding-right: 1em; text-align: center; vertical-align: top\">0</td>\n",
       "    </tr>\n",
       "    <tr>\n",
       "        <td style=\"padding-left: 1em; padding-right: 1em; text-align: center; vertical-align: top\">2008000270</td>\n",
       "        <td style=\"padding-left: 1em; padding-right: 1em; text-align: center; vertical-align: top\">2015-01-15 00:00:00+00:00</td>\n",
       "        <td style=\"padding-left: 1em; padding-right: 1em; text-align: center; vertical-align: top\">291850</td>\n",
       "        <td style=\"padding-left: 1em; padding-right: 1em; text-align: center; vertical-align: top\">3</td>\n",
       "        <td style=\"padding-left: 1em; padding-right: 1em; text-align: center; vertical-align: top\">1.5</td>\n",
       "        <td style=\"padding-left: 1em; padding-right: 1em; text-align: center; vertical-align: top\">1060</td>\n",
       "        <td style=\"padding-left: 1em; padding-right: 1em; text-align: center; vertical-align: top\">9711</td>\n",
       "        <td style=\"padding-left: 1em; padding-right: 1em; text-align: center; vertical-align: top\">1</td>\n",
       "        <td style=\"padding-left: 1em; padding-right: 1em; text-align: center; vertical-align: top\">0</td>\n",
       "    </tr>\n",
       "    <tr>\n",
       "        <td style=\"padding-left: 1em; padding-right: 1em; text-align: center; vertical-align: top\">2414600126</td>\n",
       "        <td style=\"padding-left: 1em; padding-right: 1em; text-align: center; vertical-align: top\">2015-04-15 00:00:00+00:00</td>\n",
       "        <td style=\"padding-left: 1em; padding-right: 1em; text-align: center; vertical-align: top\">229500</td>\n",
       "        <td style=\"padding-left: 1em; padding-right: 1em; text-align: center; vertical-align: top\">3</td>\n",
       "        <td style=\"padding-left: 1em; padding-right: 1em; text-align: center; vertical-align: top\">1</td>\n",
       "        <td style=\"padding-left: 1em; padding-right: 1em; text-align: center; vertical-align: top\">1780</td>\n",
       "        <td style=\"padding-left: 1em; padding-right: 1em; text-align: center; vertical-align: top\">7470</td>\n",
       "        <td style=\"padding-left: 1em; padding-right: 1em; text-align: center; vertical-align: top\">1</td>\n",
       "        <td style=\"padding-left: 1em; padding-right: 1em; text-align: center; vertical-align: top\">0</td>\n",
       "    </tr>\n",
       "    <tr>\n",
       "        <td style=\"padding-left: 1em; padding-right: 1em; text-align: center; vertical-align: top\">3793500160</td>\n",
       "        <td style=\"padding-left: 1em; padding-right: 1em; text-align: center; vertical-align: top\">2015-03-12 00:00:00+00:00</td>\n",
       "        <td style=\"padding-left: 1em; padding-right: 1em; text-align: center; vertical-align: top\">323000</td>\n",
       "        <td style=\"padding-left: 1em; padding-right: 1em; text-align: center; vertical-align: top\">3</td>\n",
       "        <td style=\"padding-left: 1em; padding-right: 1em; text-align: center; vertical-align: top\">2.5</td>\n",
       "        <td style=\"padding-left: 1em; padding-right: 1em; text-align: center; vertical-align: top\">1890</td>\n",
       "        <td style=\"padding-left: 1em; padding-right: 1em; text-align: center; vertical-align: top\">6560</td>\n",
       "        <td style=\"padding-left: 1em; padding-right: 1em; text-align: center; vertical-align: top\">2</td>\n",
       "        <td style=\"padding-left: 1em; padding-right: 1em; text-align: center; vertical-align: top\">0</td>\n",
       "    </tr>\n",
       "</table>\n",
       "<table frame=\"box\" rules=\"cols\">\n",
       "    <tr>\n",
       "        <th style=\"padding-left: 1em; padding-right: 1em; text-align: center\">view</th>\n",
       "        <th style=\"padding-left: 1em; padding-right: 1em; text-align: center\">condition</th>\n",
       "        <th style=\"padding-left: 1em; padding-right: 1em; text-align: center\">grade</th>\n",
       "        <th style=\"padding-left: 1em; padding-right: 1em; text-align: center\">sqft_above</th>\n",
       "        <th style=\"padding-left: 1em; padding-right: 1em; text-align: center\">sqft_basement</th>\n",
       "        <th style=\"padding-left: 1em; padding-right: 1em; text-align: center\">yr_built</th>\n",
       "        <th style=\"padding-left: 1em; padding-right: 1em; text-align: center\">yr_renovated</th>\n",
       "        <th style=\"padding-left: 1em; padding-right: 1em; text-align: center\">zipcode</th>\n",
       "        <th style=\"padding-left: 1em; padding-right: 1em; text-align: center\">lat</th>\n",
       "    </tr>\n",
       "    <tr>\n",
       "        <td style=\"padding-left: 1em; padding-right: 1em; text-align: center; vertical-align: top\">0</td>\n",
       "        <td style=\"padding-left: 1em; padding-right: 1em; text-align: center; vertical-align: top\">3</td>\n",
       "        <td style=\"padding-left: 1em; padding-right: 1em; text-align: center; vertical-align: top\">7</td>\n",
       "        <td style=\"padding-left: 1em; padding-right: 1em; text-align: center; vertical-align: top\">1180</td>\n",
       "        <td style=\"padding-left: 1em; padding-right: 1em; text-align: center; vertical-align: top\">0</td>\n",
       "        <td style=\"padding-left: 1em; padding-right: 1em; text-align: center; vertical-align: top\">1955</td>\n",
       "        <td style=\"padding-left: 1em; padding-right: 1em; text-align: center; vertical-align: top\">0</td>\n",
       "        <td style=\"padding-left: 1em; padding-right: 1em; text-align: center; vertical-align: top\">98178</td>\n",
       "        <td style=\"padding-left: 1em; padding-right: 1em; text-align: center; vertical-align: top\">47.51123398</td>\n",
       "    </tr>\n",
       "    <tr>\n",
       "        <td style=\"padding-left: 1em; padding-right: 1em; text-align: center; vertical-align: top\">0</td>\n",
       "        <td style=\"padding-left: 1em; padding-right: 1em; text-align: center; vertical-align: top\">3</td>\n",
       "        <td style=\"padding-left: 1em; padding-right: 1em; text-align: center; vertical-align: top\">7</td>\n",
       "        <td style=\"padding-left: 1em; padding-right: 1em; text-align: center; vertical-align: top\">2170</td>\n",
       "        <td style=\"padding-left: 1em; padding-right: 1em; text-align: center; vertical-align: top\">400</td>\n",
       "        <td style=\"padding-left: 1em; padding-right: 1em; text-align: center; vertical-align: top\">1951</td>\n",
       "        <td style=\"padding-left: 1em; padding-right: 1em; text-align: center; vertical-align: top\">1991</td>\n",
       "        <td style=\"padding-left: 1em; padding-right: 1em; text-align: center; vertical-align: top\">98125</td>\n",
       "        <td style=\"padding-left: 1em; padding-right: 1em; text-align: center; vertical-align: top\">47.72102274</td>\n",
       "    </tr>\n",
       "    <tr>\n",
       "        <td style=\"padding-left: 1em; padding-right: 1em; text-align: center; vertical-align: top\">0</td>\n",
       "        <td style=\"padding-left: 1em; padding-right: 1em; text-align: center; vertical-align: top\">3</td>\n",
       "        <td style=\"padding-left: 1em; padding-right: 1em; text-align: center; vertical-align: top\">6</td>\n",
       "        <td style=\"padding-left: 1em; padding-right: 1em; text-align: center; vertical-align: top\">770</td>\n",
       "        <td style=\"padding-left: 1em; padding-right: 1em; text-align: center; vertical-align: top\">0</td>\n",
       "        <td style=\"padding-left: 1em; padding-right: 1em; text-align: center; vertical-align: top\">1933</td>\n",
       "        <td style=\"padding-left: 1em; padding-right: 1em; text-align: center; vertical-align: top\">0</td>\n",
       "        <td style=\"padding-left: 1em; padding-right: 1em; text-align: center; vertical-align: top\">98028</td>\n",
       "        <td style=\"padding-left: 1em; padding-right: 1em; text-align: center; vertical-align: top\">47.73792661</td>\n",
       "    </tr>\n",
       "    <tr>\n",
       "        <td style=\"padding-left: 1em; padding-right: 1em; text-align: center; vertical-align: top\">0</td>\n",
       "        <td style=\"padding-left: 1em; padding-right: 1em; text-align: center; vertical-align: top\">5</td>\n",
       "        <td style=\"padding-left: 1em; padding-right: 1em; text-align: center; vertical-align: top\">7</td>\n",
       "        <td style=\"padding-left: 1em; padding-right: 1em; text-align: center; vertical-align: top\">1050</td>\n",
       "        <td style=\"padding-left: 1em; padding-right: 1em; text-align: center; vertical-align: top\">910</td>\n",
       "        <td style=\"padding-left: 1em; padding-right: 1em; text-align: center; vertical-align: top\">1965</td>\n",
       "        <td style=\"padding-left: 1em; padding-right: 1em; text-align: center; vertical-align: top\">0</td>\n",
       "        <td style=\"padding-left: 1em; padding-right: 1em; text-align: center; vertical-align: top\">98136</td>\n",
       "        <td style=\"padding-left: 1em; padding-right: 1em; text-align: center; vertical-align: top\">47.52082</td>\n",
       "    </tr>\n",
       "    <tr>\n",
       "        <td style=\"padding-left: 1em; padding-right: 1em; text-align: center; vertical-align: top\">0</td>\n",
       "        <td style=\"padding-left: 1em; padding-right: 1em; text-align: center; vertical-align: top\">3</td>\n",
       "        <td style=\"padding-left: 1em; padding-right: 1em; text-align: center; vertical-align: top\">8</td>\n",
       "        <td style=\"padding-left: 1em; padding-right: 1em; text-align: center; vertical-align: top\">1680</td>\n",
       "        <td style=\"padding-left: 1em; padding-right: 1em; text-align: center; vertical-align: top\">0</td>\n",
       "        <td style=\"padding-left: 1em; padding-right: 1em; text-align: center; vertical-align: top\">1987</td>\n",
       "        <td style=\"padding-left: 1em; padding-right: 1em; text-align: center; vertical-align: top\">0</td>\n",
       "        <td style=\"padding-left: 1em; padding-right: 1em; text-align: center; vertical-align: top\">98074</td>\n",
       "        <td style=\"padding-left: 1em; padding-right: 1em; text-align: center; vertical-align: top\">47.61681228</td>\n",
       "    </tr>\n",
       "    <tr>\n",
       "        <td style=\"padding-left: 1em; padding-right: 1em; text-align: center; vertical-align: top\">0</td>\n",
       "        <td style=\"padding-left: 1em; padding-right: 1em; text-align: center; vertical-align: top\">3</td>\n",
       "        <td style=\"padding-left: 1em; padding-right: 1em; text-align: center; vertical-align: top\">11</td>\n",
       "        <td style=\"padding-left: 1em; padding-right: 1em; text-align: center; vertical-align: top\">3890</td>\n",
       "        <td style=\"padding-left: 1em; padding-right: 1em; text-align: center; vertical-align: top\">1530</td>\n",
       "        <td style=\"padding-left: 1em; padding-right: 1em; text-align: center; vertical-align: top\">2001</td>\n",
       "        <td style=\"padding-left: 1em; padding-right: 1em; text-align: center; vertical-align: top\">0</td>\n",
       "        <td style=\"padding-left: 1em; padding-right: 1em; text-align: center; vertical-align: top\">98053</td>\n",
       "        <td style=\"padding-left: 1em; padding-right: 1em; text-align: center; vertical-align: top\">47.65611835</td>\n",
       "    </tr>\n",
       "    <tr>\n",
       "        <td style=\"padding-left: 1em; padding-right: 1em; text-align: center; vertical-align: top\">0</td>\n",
       "        <td style=\"padding-left: 1em; padding-right: 1em; text-align: center; vertical-align: top\">3</td>\n",
       "        <td style=\"padding-left: 1em; padding-right: 1em; text-align: center; vertical-align: top\">7</td>\n",
       "        <td style=\"padding-left: 1em; padding-right: 1em; text-align: center; vertical-align: top\">1715</td>\n",
       "        <td style=\"padding-left: 1em; padding-right: 1em; text-align: center; vertical-align: top\">0</td>\n",
       "        <td style=\"padding-left: 1em; padding-right: 1em; text-align: center; vertical-align: top\">1995</td>\n",
       "        <td style=\"padding-left: 1em; padding-right: 1em; text-align: center; vertical-align: top\">0</td>\n",
       "        <td style=\"padding-left: 1em; padding-right: 1em; text-align: center; vertical-align: top\">98003</td>\n",
       "        <td style=\"padding-left: 1em; padding-right: 1em; text-align: center; vertical-align: top\">47.30972002</td>\n",
       "    </tr>\n",
       "    <tr>\n",
       "        <td style=\"padding-left: 1em; padding-right: 1em; text-align: center; vertical-align: top\">0</td>\n",
       "        <td style=\"padding-left: 1em; padding-right: 1em; text-align: center; vertical-align: top\">3</td>\n",
       "        <td style=\"padding-left: 1em; padding-right: 1em; text-align: center; vertical-align: top\">7</td>\n",
       "        <td style=\"padding-left: 1em; padding-right: 1em; text-align: center; vertical-align: top\">1060</td>\n",
       "        <td style=\"padding-left: 1em; padding-right: 1em; text-align: center; vertical-align: top\">0</td>\n",
       "        <td style=\"padding-left: 1em; padding-right: 1em; text-align: center; vertical-align: top\">1963</td>\n",
       "        <td style=\"padding-left: 1em; padding-right: 1em; text-align: center; vertical-align: top\">0</td>\n",
       "        <td style=\"padding-left: 1em; padding-right: 1em; text-align: center; vertical-align: top\">98198</td>\n",
       "        <td style=\"padding-left: 1em; padding-right: 1em; text-align: center; vertical-align: top\">47.40949984</td>\n",
       "    </tr>\n",
       "    <tr>\n",
       "        <td style=\"padding-left: 1em; padding-right: 1em; text-align: center; vertical-align: top\">0</td>\n",
       "        <td style=\"padding-left: 1em; padding-right: 1em; text-align: center; vertical-align: top\">3</td>\n",
       "        <td style=\"padding-left: 1em; padding-right: 1em; text-align: center; vertical-align: top\">7</td>\n",
       "        <td style=\"padding-left: 1em; padding-right: 1em; text-align: center; vertical-align: top\">1050</td>\n",
       "        <td style=\"padding-left: 1em; padding-right: 1em; text-align: center; vertical-align: top\">730</td>\n",
       "        <td style=\"padding-left: 1em; padding-right: 1em; text-align: center; vertical-align: top\">1960</td>\n",
       "        <td style=\"padding-left: 1em; padding-right: 1em; text-align: center; vertical-align: top\">0</td>\n",
       "        <td style=\"padding-left: 1em; padding-right: 1em; text-align: center; vertical-align: top\">98146</td>\n",
       "        <td style=\"padding-left: 1em; padding-right: 1em; text-align: center; vertical-align: top\">47.51229381</td>\n",
       "    </tr>\n",
       "    <tr>\n",
       "        <td style=\"padding-left: 1em; padding-right: 1em; text-align: center; vertical-align: top\">0</td>\n",
       "        <td style=\"padding-left: 1em; padding-right: 1em; text-align: center; vertical-align: top\">3</td>\n",
       "        <td style=\"padding-left: 1em; padding-right: 1em; text-align: center; vertical-align: top\">7</td>\n",
       "        <td style=\"padding-left: 1em; padding-right: 1em; text-align: center; vertical-align: top\">1890</td>\n",
       "        <td style=\"padding-left: 1em; padding-right: 1em; text-align: center; vertical-align: top\">0</td>\n",
       "        <td style=\"padding-left: 1em; padding-right: 1em; text-align: center; vertical-align: top\">2003</td>\n",
       "        <td style=\"padding-left: 1em; padding-right: 1em; text-align: center; vertical-align: top\">0</td>\n",
       "        <td style=\"padding-left: 1em; padding-right: 1em; text-align: center; vertical-align: top\">98038</td>\n",
       "        <td style=\"padding-left: 1em; padding-right: 1em; text-align: center; vertical-align: top\">47.36840673</td>\n",
       "    </tr>\n",
       "</table>\n",
       "<table frame=\"box\" rules=\"cols\">\n",
       "    <tr>\n",
       "        <th style=\"padding-left: 1em; padding-right: 1em; text-align: center\">long</th>\n",
       "        <th style=\"padding-left: 1em; padding-right: 1em; text-align: center\">sqft_living15</th>\n",
       "        <th style=\"padding-left: 1em; padding-right: 1em; text-align: center\">sqft_lot15</th>\n",
       "    </tr>\n",
       "    <tr>\n",
       "        <td style=\"padding-left: 1em; padding-right: 1em; text-align: center; vertical-align: top\">-122.25677536</td>\n",
       "        <td style=\"padding-left: 1em; padding-right: 1em; text-align: center; vertical-align: top\">1340.0</td>\n",
       "        <td style=\"padding-left: 1em; padding-right: 1em; text-align: center; vertical-align: top\">5650.0</td>\n",
       "    </tr>\n",
       "    <tr>\n",
       "        <td style=\"padding-left: 1em; padding-right: 1em; text-align: center; vertical-align: top\">-122.3188624</td>\n",
       "        <td style=\"padding-left: 1em; padding-right: 1em; text-align: center; vertical-align: top\">1690.0</td>\n",
       "        <td style=\"padding-left: 1em; padding-right: 1em; text-align: center; vertical-align: top\">7639.0</td>\n",
       "    </tr>\n",
       "    <tr>\n",
       "        <td style=\"padding-left: 1em; padding-right: 1em; text-align: center; vertical-align: top\">-122.23319601</td>\n",
       "        <td style=\"padding-left: 1em; padding-right: 1em; text-align: center; vertical-align: top\">2720.0</td>\n",
       "        <td style=\"padding-left: 1em; padding-right: 1em; text-align: center; vertical-align: top\">8062.0</td>\n",
       "    </tr>\n",
       "    <tr>\n",
       "        <td style=\"padding-left: 1em; padding-right: 1em; text-align: center; vertical-align: top\">-122.39318505</td>\n",
       "        <td style=\"padding-left: 1em; padding-right: 1em; text-align: center; vertical-align: top\">1360.0</td>\n",
       "        <td style=\"padding-left: 1em; padding-right: 1em; text-align: center; vertical-align: top\">5000.0</td>\n",
       "    </tr>\n",
       "    <tr>\n",
       "        <td style=\"padding-left: 1em; padding-right: 1em; text-align: center; vertical-align: top\">-122.04490059</td>\n",
       "        <td style=\"padding-left: 1em; padding-right: 1em; text-align: center; vertical-align: top\">1800.0</td>\n",
       "        <td style=\"padding-left: 1em; padding-right: 1em; text-align: center; vertical-align: top\">7503.0</td>\n",
       "    </tr>\n",
       "    <tr>\n",
       "        <td style=\"padding-left: 1em; padding-right: 1em; text-align: center; vertical-align: top\">-122.00528655</td>\n",
       "        <td style=\"padding-left: 1em; padding-right: 1em; text-align: center; vertical-align: top\">4760.0</td>\n",
       "        <td style=\"padding-left: 1em; padding-right: 1em; text-align: center; vertical-align: top\">101930.0</td>\n",
       "    </tr>\n",
       "    <tr>\n",
       "        <td style=\"padding-left: 1em; padding-right: 1em; text-align: center; vertical-align: top\">-122.32704857</td>\n",
       "        <td style=\"padding-left: 1em; padding-right: 1em; text-align: center; vertical-align: top\">2238.0</td>\n",
       "        <td style=\"padding-left: 1em; padding-right: 1em; text-align: center; vertical-align: top\">6819.0</td>\n",
       "    </tr>\n",
       "    <tr>\n",
       "        <td style=\"padding-left: 1em; padding-right: 1em; text-align: center; vertical-align: top\">-122.31457273</td>\n",
       "        <td style=\"padding-left: 1em; padding-right: 1em; text-align: center; vertical-align: top\">1650.0</td>\n",
       "        <td style=\"padding-left: 1em; padding-right: 1em; text-align: center; vertical-align: top\">9711.0</td>\n",
       "    </tr>\n",
       "    <tr>\n",
       "        <td style=\"padding-left: 1em; padding-right: 1em; text-align: center; vertical-align: top\">-122.33659507</td>\n",
       "        <td style=\"padding-left: 1em; padding-right: 1em; text-align: center; vertical-align: top\">1780.0</td>\n",
       "        <td style=\"padding-left: 1em; padding-right: 1em; text-align: center; vertical-align: top\">8113.0</td>\n",
       "    </tr>\n",
       "    <tr>\n",
       "        <td style=\"padding-left: 1em; padding-right: 1em; text-align: center; vertical-align: top\">-122.0308176</td>\n",
       "        <td style=\"padding-left: 1em; padding-right: 1em; text-align: center; vertical-align: top\">2390.0</td>\n",
       "        <td style=\"padding-left: 1em; padding-right: 1em; text-align: center; vertical-align: top\">7570.0</td>\n",
       "    </tr>\n",
       "</table>\n",
       "[21613 rows x 21 columns]<br/>Note: Only the head of the SFrame is printed.<br/>You can use print_rows(num_rows=m, num_columns=n) to print more rows and columns.\n",
       "</div>"
      ],
      "text/plain": [
       "Columns:\n",
       "\tid\tstr\n",
       "\tdate\tdatetime\n",
       "\tprice\tint\n",
       "\tbedrooms\tstr\n",
       "\tbathrooms\tstr\n",
       "\tsqft_living\tint\n",
       "\tsqft_lot\tint\n",
       "\tfloors\tstr\n",
       "\twaterfront\tint\n",
       "\tview\tint\n",
       "\tcondition\tint\n",
       "\tgrade\tint\n",
       "\tsqft_above\tint\n",
       "\tsqft_basement\tint\n",
       "\tyr_built\tint\n",
       "\tyr_renovated\tint\n",
       "\tzipcode\tstr\n",
       "\tlat\tfloat\n",
       "\tlong\tfloat\n",
       "\tsqft_living15\tfloat\n",
       "\tsqft_lot15\tfloat\n",
       "\n",
       "Rows: 21613\n",
       "\n",
       "Data:\n",
       "+------------+---------------------------+---------+----------+-----------+-------------+\n",
       "|     id     |            date           |  price  | bedrooms | bathrooms | sqft_living |\n",
       "+------------+---------------------------+---------+----------+-----------+-------------+\n",
       "| 7129300520 | 2014-10-13 00:00:00+00:00 |  221900 |    3     |     1     |     1180    |\n",
       "| 6414100192 | 2014-12-09 00:00:00+00:00 |  538000 |    3     |    2.25   |     2570    |\n",
       "| 5631500400 | 2015-02-25 00:00:00+00:00 |  180000 |    2     |     1     |     770     |\n",
       "| 2487200875 | 2014-12-09 00:00:00+00:00 |  604000 |    4     |     3     |     1960    |\n",
       "| 1954400510 | 2015-02-18 00:00:00+00:00 |  510000 |    3     |     2     |     1680    |\n",
       "| 7237550310 | 2014-05-12 00:00:00+00:00 | 1225000 |    4     |    4.5    |     5420    |\n",
       "| 1321400060 | 2014-06-27 00:00:00+00:00 |  257500 |    3     |    2.25   |     1715    |\n",
       "| 2008000270 | 2015-01-15 00:00:00+00:00 |  291850 |    3     |    1.5    |     1060    |\n",
       "| 2414600126 | 2015-04-15 00:00:00+00:00 |  229500 |    3     |     1     |     1780    |\n",
       "| 3793500160 | 2015-03-12 00:00:00+00:00 |  323000 |    3     |    2.5    |     1890    |\n",
       "+------------+---------------------------+---------+----------+-----------+-------------+\n",
       "+----------+--------+------------+------+-----------+-------+------------+---------------+\n",
       "| sqft_lot | floors | waterfront | view | condition | grade | sqft_above | sqft_basement |\n",
       "+----------+--------+------------+------+-----------+-------+------------+---------------+\n",
       "|   5650   |   1    |     0      |  0   |     3     |   7   |    1180    |       0       |\n",
       "|   7242   |   2    |     0      |  0   |     3     |   7   |    2170    |      400      |\n",
       "|  10000   |   1    |     0      |  0   |     3     |   6   |    770     |       0       |\n",
       "|   5000   |   1    |     0      |  0   |     5     |   7   |    1050    |      910      |\n",
       "|   8080   |   1    |     0      |  0   |     3     |   8   |    1680    |       0       |\n",
       "|  101930  |   1    |     0      |  0   |     3     |   11  |    3890    |      1530     |\n",
       "|   6819   |   2    |     0      |  0   |     3     |   7   |    1715    |       0       |\n",
       "|   9711   |   1    |     0      |  0   |     3     |   7   |    1060    |       0       |\n",
       "|   7470   |   1    |     0      |  0   |     3     |   7   |    1050    |      730      |\n",
       "|   6560   |   2    |     0      |  0   |     3     |   7   |    1890    |       0       |\n",
       "+----------+--------+------------+------+-----------+-------+------------+---------------+\n",
       "+----------+--------------+---------+-------------+---------------+---------------+-----+\n",
       "| yr_built | yr_renovated | zipcode |     lat     |      long     | sqft_living15 | ... |\n",
       "+----------+--------------+---------+-------------+---------------+---------------+-----+\n",
       "|   1955   |      0       |  98178  | 47.51123398 | -122.25677536 |     1340.0    | ... |\n",
       "|   1951   |     1991     |  98125  | 47.72102274 |  -122.3188624 |     1690.0    | ... |\n",
       "|   1933   |      0       |  98028  | 47.73792661 | -122.23319601 |     2720.0    | ... |\n",
       "|   1965   |      0       |  98136  |   47.52082  | -122.39318505 |     1360.0    | ... |\n",
       "|   1987   |      0       |  98074  | 47.61681228 | -122.04490059 |     1800.0    | ... |\n",
       "|   2001   |      0       |  98053  | 47.65611835 | -122.00528655 |     4760.0    | ... |\n",
       "|   1995   |      0       |  98003  | 47.30972002 | -122.32704857 |     2238.0    | ... |\n",
       "|   1963   |      0       |  98198  | 47.40949984 | -122.31457273 |     1650.0    | ... |\n",
       "|   1960   |      0       |  98146  | 47.51229381 | -122.33659507 |     1780.0    | ... |\n",
       "|   2003   |      0       |  98038  | 47.36840673 |  -122.0308176 |     2390.0    | ... |\n",
       "+----------+--------------+---------+-------------+---------------+---------------+-----+\n",
       "[21613 rows x 21 columns]\n",
       "Note: Only the head of the SFrame is printed.\n",
       "You can use print_rows(num_rows=m, num_columns=n) to print more rows and columns."
      ]
     },
     "execution_count": 3,
     "metadata": {},
     "output_type": "execute_result"
    }
   ],
   "source": [
    "sales"
   ]
  },
  {
   "cell_type": "code",
   "execution_count": 4,
   "metadata": {
    "collapsed": true
   },
   "outputs": [],
   "source": [
    "graphlab.canvas.set_target(\"ipynb\")"
   ]
  },
  {
   "cell_type": "code",
   "execution_count": 5,
   "metadata": {
    "collapsed": false
   },
   "outputs": [
    {
     "data": {
      "application/javascript": [
       "$(\"head\").append($(\"<link/>\").attr({\n",
       "  rel:  \"stylesheet\",\n",
       "  type: \"text/css\",\n",
       "  href: \"//cdnjs.cloudflare.com/ajax/libs/font-awesome/4.1.0/css/font-awesome.min.css\"\n",
       "}));\n",
       "$(\"head\").append($(\"<link/>\").attr({\n",
       "  rel:  \"stylesheet\",\n",
       "  type: \"text/css\",\n",
       "  href: \"https://static.turi.com/products/graphlab-create/2.1/canvas/css/canvas.css\"\n",
       "}));\n",
       "\n",
       "            (function(){\n",
       "\n",
       "                var e = null;\n",
       "                if (typeof element == 'undefined') {\n",
       "                    var scripts = document.getElementsByTagName('script');\n",
       "                    var thisScriptTag = scripts[scripts.length-1];\n",
       "                    var parentDiv = thisScriptTag.parentNode;\n",
       "                    e = document.createElement('div');\n",
       "                    parentDiv.appendChild(e);\n",
       "                } else {\n",
       "                    e = element[0];\n",
       "                }\n",
       "\n",
       "                if (typeof requirejs !== 'undefined') {\n",
       "                    // disable load timeout; ipython_app.js is large and can take a while to load.\n",
       "                    requirejs.config({waitSeconds: 0});\n",
       "                }\n",
       "\n",
       "                require(['https://static.turi.com/products/graphlab-create/2.1/canvas/js/ipython_app.js'], function(IPythonApp){\n",
       "                    var app = new IPythonApp();\n",
       "                    app.attachView('sframe','Plots', {\"selected_variable\": {\"name\": [\"sales\"], \"descriptives\": {\"rows\": 21613, \"columns\": 21}, \"view_component\": \"Plots\", \"view_file\": \"sframe\", \"view_params\": {\"y\": \"price\", \"x\": \"sqft_living\", \"columns\": [\"id\", \"date\", \"price\", \"bedrooms\", \"bathrooms\", \"sqft_living\", \"sqft_lot\", \"floors\", \"waterfront\", \"view\", \"condition\", \"grade\", \"sqft_above\", \"sqft_basement\", \"yr_built\", \"yr_renovated\", \"zipcode\", \"lat\", \"long\", \"sqft_living15\", \"sqft_lot15\"], \"view\": \"Scatter Plot\"}, \"view_components\": [\"Summary\", \"Table\", \"Bar Chart\", \"BoxWhisker Plot\", \"Line Chart\", \"Scatter Plot\", \"Heat Map\", \"Plots\"], \"type\": \"SFrame\", \"columns\": [{\"dtype\": \"str\", \"name\": \"id\"}, {\"dtype\": \"datetime\", \"name\": \"date\"}, {\"dtype\": \"int\", \"name\": \"price\"}, {\"dtype\": \"str\", \"name\": \"bedrooms\"}, {\"dtype\": \"str\", \"name\": \"bathrooms\"}, {\"dtype\": \"int\", \"name\": \"sqft_living\"}, {\"dtype\": \"int\", \"name\": \"sqft_lot\"}, {\"dtype\": \"str\", \"name\": \"floors\"}, {\"dtype\": \"int\", \"name\": \"waterfront\"}, {\"dtype\": \"int\", \"name\": \"view\"}, {\"dtype\": \"int\", \"name\": \"condition\"}, {\"dtype\": \"int\", \"name\": \"grade\"}, {\"dtype\": \"int\", \"name\": \"sqft_above\"}, {\"dtype\": \"int\", \"name\": \"sqft_basement\"}, {\"dtype\": \"int\", \"name\": \"yr_built\"}, {\"dtype\": \"int\", \"name\": \"yr_renovated\"}, {\"dtype\": \"str\", \"name\": \"zipcode\"}, {\"dtype\": \"float\", \"name\": \"lat\"}, {\"dtype\": \"float\", \"name\": \"long\"}, {\"dtype\": \"float\", \"name\": \"sqft_living15\"}, {\"dtype\": \"float\", \"name\": \"sqft_lot15\"}], \"column_identifiers\": [\"bathrooms\", \"sqft_living15\", \"sqft_above\", \"grade\", \"yr_built\", \"price\", \"bedrooms\", \"zipcode\", \"long\", \"id\", \"sqft_lot15\", \"sqft_living\", \"floors\", \"sqft_lot\", \"date\", \"waterfront\", \"sqft_basement\", \"yr_renovated\", \"lat\", \"condition\", \"view\"]}, \"complete\": 1, \"ipython\": true, \"progress\": 1.0, \"data\": [[2200, 1230000], [2570, 538000], [2500, 1700000], [1100, 343566], [1760, 620047], [1870, 377000], [1715, 257500], [4360, 1980000], [1540, 484998], [2110, 324500], [2240, 466000], [2010, 559000], [760, 265000], [4930, 600000], [840, 355000], [1320, 425000], [1400, 425000], [860, 370000], [2660, 523000], [1500, 475500], [1800, 272000], [2240, 440000], [2910, 765000], [670, 279000], [2190, 375000], [1600, 442500], [1560, 600000], [2220, 862000], [1770, 245000], [2470, 470000], [2240, 309000], [3440, 598992], [2710, 710000], [2060, 200000], [1110, 217000], [1990, 569000], [1300, 394950], [2830, 710000], [1740, 665000], [1370, 797000], [1710, 480000], [1700, 250000], [3362, 410500], [800, 265000], [1150, 227500], [1610, 246700], [1140, 234000], [1670, 280500], [1210, 710000], [2970, 1565000], [2540, 799990], [2250, 375000], [1320, 243000], [3220, 590000], [1260, 320000], [2080, 689000], [2230, 360000], [2150, 346500], [2080, 450000], [2350, 295000], [2460, 276000], [2030, 295000], [1494, 650000], [2650, 370000], [1520, 475580], [1740, 560000], [2260, 980000], [2240, 287000], [1460, 235000], [2770, 505000], [1770, 353500], [2020, 355000], [1370, 245000], [1180, 325000], [1220, 470000], [2950, 839704], [820, 361280], [3330, 762500], [4400, 1150000], [1620, 641000], [3840, 858450], [3090, 1110000], [1350, 874000], [1370, 370000], [4320, 1775000], [1920, 341000], [2440, 278800], [4510, 1870000], [1445, 355000], [1710, 650000], [1090, 249000], [2020, 556000], [1310, 311000], [1580, 430000], [2510, 680000], [590, 240000], [1670, 310000], [1952, 270500], [1250, 150000], [1760, 336500], [3210, 785000], [2290, 536000], [1950, 315000], [1660, 277500], [3610, 635000], [2070, 449950], [1370, 296000], [2190, 525000], [1900, 630000], [1090, 204000], [1200, 483500], [2000, 465000], [1420, 136500], [3350, 790500], [2700, 515000], [4380, 740500], [1390, 199000], [4310, 1174660], [620, 382888], [2470, 525000], [1340, 438400], [800, 265050], [2290, 585000], [3550, 810000], [2260, 925000], [1790, 455000], [2500, 315000], [1720, 775000], [2130, 338500], [3930, 1250000], [880, 280000], [1500, 403000], [2150, 400000], [3000, 759900], [1820, 699000], [2040, 506000], [2020, 810000], [2340, 505000], [1110, 293000], [1170, 519950], [2780, 1650000], [4210, 937500], [2100, 554990], [1250, 357000], [2460, 900000], [3670, 921500], [1470, 630000], [2800, 379900], [860, 187000], [4150, 930800], [830, 350000], [2600, 515000], [1700, 548000], [900, 205500], [1320, 200000], [2250, 998800], [3150, 1205000], [1820, 499950], [2230, 398750], [1510, 400000], [1000, 228000], [1780, 438000], [1320, 370000], [1270, 259000], [2180, 727000], [1495, 400000], [1350, 400000], [1190, 306000], [1800, 379900], [1760, 270000], [1980, 470000], [3770, 1020000], [1880, 280000], [2060, 269950], [2130, 350000], [2910, 1850000], [3800, 2395000], [1440, 375000], [3820, 830000], [1600, 625000], [1020, 680000], [1240, 425000], [930, 275000], [2100, 1000000], [2520, 642860], [2640, 530000], [2180, 363500], [1550, 570000], [2500, 599950], [3760, 1580000], [5240, 1862000], [1860, 410000], [1440, 562100], [6200, 1959000], [1540, 395000], [1220, 355000], [1540, 759600], [2150, 465000], [1960, 285750], [2160, 383000], [3850, 1200000], [2720, 632500], [1509, 401500], [2490, 572500], [2580, 650000], [3520, 1220000], [2880, 550000], [1850, 445000], [900, 180250], [2510, 557500], [1560, 490000], [2160, 450000], [3670, 525000], [2714, 465000], [1730, 355000], [4350, 1150000], [2480, 583800], [1230, 360000], [2740, 407500], [1240, 150000], [2330, 1300000], [1150, 215000], [2370, 310000], [2400, 338000], [1070, 259950], [2020, 415000], [2500, 650000], [1330, 175000], [2980, 905000], [3700, 415000], [2430, 1027000], [3870, 1440000], [1310, 218000], [2580, 459900], [3190, 814842], [1460, 239950], [1840, 268000], [3630, 698000], [1130, 315450], [3290, 595000], [1450, 393000], [1570, 657000], [1860, 429000], [3080, 1655000], [1660, 712500], [1470, 700000], [2413, 454950], [1830, 249000], [1980, 545800], [950, 230000], [1480, 440000], [1630, 445000], [1070, 194000], [1020, 241000], [1730, 245000], [1440, 142500], [2360, 385000], [1390, 218500], [1440, 380000], [1100, 570000], [1640, 375000], [1430, 266200], [1650, 225000], [1770, 340500], [2100, 610000], [1040, 619790], [1510, 195000], [1070, 415000], [1740, 645000], [3190, 495500], [1070, 147000], [1450, 405000], [2160, 987000], [2430, 780000], [2300, 623000], [2050, 745000], [1710, 685000], [2560, 842500], [2420, 998000], [1130, 280005], [1820, 309000], [770, 252500], [3830, 2050000], [960, 420850], [4410, 1320000], [2360, 370000], [1000, 317500], [1190, 390000], [1730, 460000], [3480, 1505000], [3490, 1675000], [1240, 662990], [1760, 609950], [2390, 699950], [1300, 257500], [2540, 475000], [1560, 310000], [2300, 452000], [2240, 475000], [1670, 456000], [3240, 975000], [4330, 3168750], [1660, 295000], [2020, 385000], [2490, 504750], [2780, 815000], [2970, 599000], [1900, 463000], [2580, 698000], [1960, 180000], [2370, 834000], [1840, 411715], [2170, 467000], [3720, 1450000], [1920, 440000], [1720, 525000], [2240, 340000], [910, 515000], [2360, 459000], [1800, 272000], [2980, 505000], [2290, 745000], [920, 212500], [1550, 390000], [2310, 524000], [3160, 805000], [1660, 343500], [1820, 825000], [3660, 1506000], [800, 230000], [1810, 290000], [1870, 272000], [2820, 321027], [1460, 470000], [1040, 314950], [2300, 224000], [2961, 695000], [700, 380000], [2340, 315000], [840, 96500], [890, 409000], [2860, 720000], [4660, 2641100], [1020, 385000], [1460, 237950], [1700, 800000], [1380, 295000], [1140, 550000], [1040, 411100], [2303, 300000], [700, 328000], [1260, 336000], [2570, 1180000], [850, 370000], [1560, 627500], [3110, 700000], [1930, 375000], [1950, 310000], [1250, 255000], [1240, 529950], [2500, 585000], [2815, 491000], [1570, 485000], [1580, 787500], [2070, 465000], [4130, 1135000], [1480, 449250], [2190, 833000], [2440, 785000], [3360, 765000], [2730, 780000], [2670, 668000], [2630, 567000], [3450, 380000], [2980, 947500], [1020, 195000], [3740, 710000], [3040, 640000], [3840, 884250], [2470, 525000], [4460, 833450], [2370, 398096], [1640, 525000], [1830, 336800], [3340, 655000], [1280, 232000], [1400, 325000], [2810, 450000], [2750, 375000], [2800, 375000], [1550, 345000], [1420, 230000], [1770, 660000], [1250, 455000], [4240, 1160000], [1370, 388000], [3370, 675000], [3150, 727000], [1500, 606000], [4470, 2950000], [2710, 430760], [1370, 655000], [1400, 538000], [1840, 390000], [2350, 397500], [1650, 280000], [1650, 485000], [3490, 414000], [2680, 612000], [2200, 547000], [1890, 675000], [3100, 564500], [1120, 362000], [1870, 449000], [1680, 380000], [2940, 837000], [2590, 550000], [1410, 288000], [2000, 500000], [1131, 394950], [3020, 340000], [1260, 523000], [1340, 530000], [2710, 1191000], [3220, 862500], [2020, 262000], [1520, 290000], [2780, 1025000], [2780, 739000], [2190, 700000], [2080, 660000], [980, 575000], [1440, 469000], [1260, 531000], [1480, 278000], [2520, 618250], [3470, 1218000], [1750, 750000], [2360, 348000], [4230, 935000], [890, 153500], [1130, 485000], [2570, 715000], [2140, 322500], [960, 405000], [1550, 453500], [1445, 415000], [890, 460000], [2200, 818000], [2030, 435000], [2110, 725000], [2170, 606500], [1770, 370000], [1260, 312620], [3990, 866000], [3150, 750000], [2300, 482000], [860, 345000], [2340, 590000], [2390, 360000], [5410, 2544750], [1930, 531800], [1390, 610000], [2250, 370000], [2510, 800000], [1190, 195000], [4370, 858000], [1410, 379500], [3610, 610000], [3580, 1406888], [2760, 1103990], [2430, 510000], [1030, 275000], [1010, 183500], [2963, 325000], [1690, 207000], [1370, 275000], [1000, 311300], [3230, 605000], [1300, 155000], [1390, 365000], [3200, 712000], [1800, 471001], [1610, 505000], [2120, 680000], [1470, 418900], [2540, 325000], [3920, 650500], [2019, 293000], [1870, 340000], [1170, 200000], [2490, 275000], [2510, 630000], [3360, 740000], [1960, 369990], [2860, 957000], [1800, 575000], [2100, 492000], [1330, 325000], [770, 257000], [2280, 419950], [2790, 650000], [1550, 537000], [1150, 485000], [1510, 254000], [3300, 1350000], [3270, 940000], [2820, 428900], [1940, 790000], [3050, 740000], [3120, 1580000], [2850, 1185000], [1100, 502501], [1520, 198500], [1900, 615000], [3540, 2200000], [1730, 550000], [2430, 410000], [1570, 315000], [1010, 300000], [2200, 390000], [860, 350000], [2830, 774000], [2050, 825000], [1820, 378950], [1860, 250000], [950, 320000], [1630, 339950], [4410, 600000], [3000, 607500], [1860, 217000], [1340, 345000], [1800, 286000], [1530, 865000], [1200, 395000], [1900, 715000], [1050, 310000], [1590, 1208000], [2240, 689000], [2420, 1490000], [3500, 970000], [1060, 515000], [800, 388000], [1550, 650000], [1490, 438500], [1040, 310000], [2380, 782000], [2210, 1262000], [900, 470000], [1320, 215000], [1300, 281000], [1660, 315000], [2000, 267000], [890, 328000], [3200, 497300], [1560, 503045], [1630, 395000], [690, 260000], [940, 473000], [1680, 640000], [1040, 217450], [3740, 1150000], [2530, 657000], [1847, 216000], [2803, 379000], [1290, 268500], [1570, 525000], [1150, 175000], [2540, 775000], [4060, 1300000], [1010, 240000], [1260, 436500], [2070, 567000], [2740, 690000], [1580, 300000], [790, 439000], [2770, 641000], [1580, 536000], [1900, 235000], [1500, 707500], [2120, 500000], [1190, 319500], [1380, 450000], [1700, 384000], [1990, 180000], [3560, 1750000], [2380, 439950], [3180, 900000], [1350, 270000], [990, 384000], [850, 308500], [1660, 288000], [1610, 290000], [1780, 296000], [1430, 175000], [1590, 339275], [2540, 759990], [4850, 975000], [1620, 498000], [1590, 556000], [1690, 455800], [2460, 646000], [880, 376000], [3040, 540000], [2080, 740000], [2640, 1100000], [2090, 619400], [2242, 490000], [4100, 2027000], [5780, 2321000], [1960, 460000], [3770, 1104500], [1414, 428000], [1450, 357500], [2510, 880000], [1820, 425000], [1540, 260000], [1960, 509000], [1930, 289000], [2900, 850000], [2240, 495000], [1190, 320000], [1900, 500000], [3320, 1025000], [1620, 665000], [1010, 150000], [1650, 422250], [3160, 1190000], [1540, 375000], [2140, 359500], [1780, 442573], [2560, 740000], [2080, 426700], [1960, 260000], [1330, 295000], [1030, 220000], [3910, 709950], [2500, 425000], [980, 295000], [2080, 440000], [1090, 149000], [2040, 355000], [1080, 350000], [2780, 594866], [3740, 1085000], [2010, 360000], [2200, 279000], [2510, 440000], [2380, 342000], [2250, 595000], [1900, 305000], [1370, 375000], [1730, 515000], [1740, 340000], [3050, 1475000], [700, 415000], [3930, 3070000], [1730, 243400], [1240, 318000], [1680, 320000], [1520, 600000], [800, 435000], [1780, 565500], [1510, 313950], [1510, 420250], [1750, 499000], [1290, 232000], [2960, 1015000], [2025, 260000], [3060, 657000], [1780, 1000000], [1010, 230000], [1290, 440000], [3300, 729000], [2710, 564450], [2810, 1169000], [750, 425000], [2130, 671500], [2110, 305495], [1628, 250000], [1470, 238000], [1170, 400000], [2870, 555000], [2210, 330000], [1540, 269000], [940, 180000], [2180, 455000], [1320, 660000], [1410, 590000], [2520, 765000], [780, 250000], [1880, 455000], [700, 430000], [670, 245000], [1980, 307700], [1350, 250000], [2830, 700000], [1680, 620000], [1290, 265000], [1690, 349000], [1950, 428000], [1080, 329500], [1670, 448000], [3140, 389950], [2260, 419950], [1140, 576000], [2320, 447500], [1630, 320000], [1950, 895000], [2330, 669950], [1990, 246000], [1480, 250000], [2960, 1250000], [1400, 340000], [4000, 771005], [3620, 2230000], [2100, 270000], [2510, 562000], [1780, 470000], [1950, 348450], [2560, 619000], [1400, 399950], [1570, 580000], [2690, 645000], [2520, 350000], [2020, 554729], [2594, 351000], [1760, 688500], [3190, 1050000], [1200, 204000], [1080, 115000], [3060, 520000], [2830, 1086000], [2570, 680000], [4100, 1350000], [1980, 479900], [2650, 1008000], [1320, 412000], [1760, 544000], [1370, 720000], [920, 255000], [1120, 310000], [940, 725000], [1630, 327000], [4410, 1500000], [1370, 409950], [1650, 250000], [2330, 362500], [2700, 552500], [2000, 423500], [2790, 340000], [980, 415000], [800, 295000], [1130, 354000], [1798, 199900], [1610, 280000], [2600, 402500], [2380, 330000], [1630, 426000], [4980, 1250000], [2060, 343888], [2510, 825000], [7270, 2238888], [1850, 611000], [2550, 375900], [2450, 849000], [3010, 1280000], [1330, 405000], [3230, 572115], [2400, 650000], [1850, 295000], [1940, 335000], [1450, 306000], [1100, 450000], [2190, 699900], [1890, 267300], [2590, 480000], [1470, 380000], [2300, 680000], [1730, 480680], [2150, 430000], [1730, 379260], [1810, 585000], [1850, 277000], [2840, 814000], [2700, 1015000], [2400, 275000], [1030, 397380], [3380, 328000], [1530, 465000], [980, 335000], [2810, 675000], [1680, 219200], [950, 365000], [5040, 1284000], [1860, 397500], [3720, 1370000], [1980, 233000], [1540, 415000], [1340, 485500], [2190, 350000], [1400, 252000], [2070, 400000], [2100, 580000], [1790, 800000], [2200, 580000], [1440, 1038000], [1880, 554500], [3300, 780000], [2880, 710800], [2100, 700000], [1910, 247200], [2440, 925000], [1680, 375000], [840, 528000], [1790, 272000], [2340, 730000], [2190, 765000], [1210, 175000], [2200, 705000], [3052, 425000], [1530, 458950], [2050, 290000], [1420, 510000], [1520, 330000], [1780, 555000], [1730, 300000], [3490, 2000000], [1980, 660000], [1260, 240000], [2930, 718000], [3370, 405000], [1450, 435000], [1300, 287000], [1270, 316000], [2070, 400000], [1430, 305000], [3850, 925000], [1330, 300000], [3020, 515000], [2223, 320000], [2960, 550000], [2230, 491500], [1570, 765000], [1410, 404000], [1900, 343500], [2760, 800000], [4580, 2900000], [2740, 541125], [3410, 774950], [1550, 557800], [2160, 354000], [1180, 472000], [1975, 311000], [1570, 209950], [2700, 565000], [1720, 265000], [2000, 417000], [1460, 446000], [860, 219900], [1610, 397000], [2090, 400000], [1330, 525000], [1200, 185000], [2140, 616750], [1410, 650000], [920, 356000], [1570, 485000], [720, 179000], [2280, 625000], [1830, 642450], [1140, 276000], [1520, 402000], [1180, 257500], [1250, 287000], [1790, 865000], [1980, 317750], [2040, 467500], [5635, 950000], [2340, 440000], [4800, 1079000], [1920, 200000], [780, 200000], [1780, 316000], [1510, 453000], [1170, 260000], [1460, 240000], [2360, 300000], [3050, 740000], [1530, 675000], [5850, 1525000], [2320, 310000], [1160, 875000], [1480, 466800], [2060, 810000], [3110, 1636000], [3000, 1688000], [1990, 690000], [970, 515000], [1820, 625000], [1830, 350000], [2090, 424950], [2430, 825000], [1200, 165050], [1100, 574000], [3090, 602500], [3350, 805000], [1530, 250000], [2520, 825000], [1260, 445000], [4060, 1600000], [2430, 502500], [1340, 479000], [3200, 795000], [1440, 350000], [3660, 475000], [1130, 411000], [3860, 820875], [2360, 441500], [5010, 1468000], [950, 192500], [1540, 263500], [1400, 190000], [1320, 937500], [780, 286000], [920, 250000], [3080, 889950], [2390, 420000], [1480, 269950], [2080, 605000], [3180, 775000], [2870, 760369], [1270, 276900], [1670, 540000], [1020, 360000], [1950, 700000], [1320, 275000], [1060, 299995], [2260, 224950], [2420, 389000], [1940, 265000], [1460, 225000], [2770, 950000], [2080, 813000], [1290, 200000], [1750, 363000], [1430, 552500], [2240, 675000], [1140, 407000], [1540, 529000], [1340, 230000], [1350, 405500], [3230, 1075000], [3390, 835000], [2840, 718500], [1200, 234000], [3040, 468000], [2820, 398000], [960, 267500], [2510, 450000], [1830, 312500], [4510, 1815000], [3020, 575000], [4420, 925000], [1210, 452000], [1590, 609500], [2290, 620000], [1590, 225000], [5310, 1050000], [2890, 898500], [2280, 820000], [1070, 220000], [1670, 249950], [1650, 364000], [1500, 529000], [2620, 648000], [1690, 277500], [3420, 780000], [1530, 590000], [1780, 710000], [1360, 345000], [2340, 995000], [4380, 945000], [2350, 850000], [1820, 276000], [2140, 270000], [1940, 375000], [1480, 459000], [1810, 827500], [1730, 479000], [2340, 550000], [2790, 738000], [1760, 440000], [1726, 363750], [1920, 571000], [1550, 369000], [790, 135000], [3160, 693000], [2550, 340000], [2250, 287500]], \"columns\": [{\"dtype\": \"str\", \"name\": \"id\"}, {\"dtype\": \"datetime\", \"name\": \"date\"}, {\"dtype\": \"int\", \"name\": \"price\"}, {\"dtype\": \"str\", \"name\": \"bedrooms\"}, {\"dtype\": \"str\", \"name\": \"bathrooms\"}, {\"dtype\": \"int\", \"name\": \"sqft_living\"}, {\"dtype\": \"int\", \"name\": \"sqft_lot\"}, {\"dtype\": \"str\", \"name\": \"floors\"}, {\"dtype\": \"int\", \"name\": \"waterfront\"}, {\"dtype\": \"int\", \"name\": \"view\"}, {\"dtype\": \"int\", \"name\": \"condition\"}, {\"dtype\": \"int\", \"name\": \"grade\"}, {\"dtype\": \"int\", \"name\": \"sqft_above\"}, {\"dtype\": \"int\", \"name\": \"sqft_basement\"}, {\"dtype\": \"int\", \"name\": \"yr_built\"}, {\"dtype\": \"int\", \"name\": \"yr_renovated\"}, {\"dtype\": \"str\", \"name\": \"zipcode\"}, {\"dtype\": \"float\", \"name\": \"lat\"}, {\"dtype\": \"float\", \"name\": \"long\"}, {\"dtype\": \"float\", \"name\": \"sqft_living15\"}, {\"dtype\": \"float\", \"name\": \"sqft_lot15\"}]}, e);\n",
       "                });\n",
       "            })();\n",
       "        "
      ]
     },
     "metadata": {},
     "output_type": "display_data"
    }
   ],
   "source": [
    "sales.show(view=\"Scatter Plot\", x=\"sqft_living\", y=\"price\")"
   ]
  },
  {
   "cell_type": "code",
   "execution_count": 6,
   "metadata": {
    "collapsed": true
   },
   "outputs": [],
   "source": [
    "train_data, test_data = sales.random_split(.8, seed=0)"
   ]
  },
  {
   "cell_type": "code",
   "execution_count": 7,
   "metadata": {
    "collapsed": true
   },
   "outputs": [],
   "source": [
    "sqft_feature = [\"sqft_living\"]"
   ]
  },
  {
   "cell_type": "code",
   "execution_count": 8,
   "metadata": {
    "collapsed": true
   },
   "outputs": [],
   "source": [
    "my_features = [\"bedrooms\", \"bathrooms\", \"sqft_living\", \"sqft_lot\", \"floors\", \"zipcode\"]"
   ]
  },
  {
   "cell_type": "code",
   "execution_count": 33,
   "metadata": {
    "collapsed": false
   },
   "outputs": [
    {
     "data": {
      "text/html": [
       "<pre>Linear regression:</pre>"
      ],
      "text/plain": [
       "Linear regression:"
      ]
     },
     "metadata": {},
     "output_type": "display_data"
    },
    {
     "data": {
      "text/html": [
       "<pre>--------------------------------------------------------</pre>"
      ],
      "text/plain": [
       "--------------------------------------------------------"
      ]
     },
     "metadata": {},
     "output_type": "display_data"
    },
    {
     "data": {
      "text/html": [
       "<pre>Number of examples          : 17384</pre>"
      ],
      "text/plain": [
       "Number of examples          : 17384"
      ]
     },
     "metadata": {},
     "output_type": "display_data"
    },
    {
     "data": {
      "text/html": [
       "<pre>Number of features          : 1</pre>"
      ],
      "text/plain": [
       "Number of features          : 1"
      ]
     },
     "metadata": {},
     "output_type": "display_data"
    },
    {
     "data": {
      "text/html": [
       "<pre>Number of unpacked features : 1</pre>"
      ],
      "text/plain": [
       "Number of unpacked features : 1"
      ]
     },
     "metadata": {},
     "output_type": "display_data"
    },
    {
     "data": {
      "text/html": [
       "<pre>Number of coefficients    : 2</pre>"
      ],
      "text/plain": [
       "Number of coefficients    : 2"
      ]
     },
     "metadata": {},
     "output_type": "display_data"
    },
    {
     "data": {
      "text/html": [
       "<pre>Starting Newton Method</pre>"
      ],
      "text/plain": [
       "Starting Newton Method"
      ]
     },
     "metadata": {},
     "output_type": "display_data"
    },
    {
     "data": {
      "text/html": [
       "<pre>--------------------------------------------------------</pre>"
      ],
      "text/plain": [
       "--------------------------------------------------------"
      ]
     },
     "metadata": {},
     "output_type": "display_data"
    },
    {
     "data": {
      "text/html": [
       "<pre>+-----------+----------+--------------+--------------------+---------------+</pre>"
      ],
      "text/plain": [
       "+-----------+----------+--------------+--------------------+---------------+"
      ]
     },
     "metadata": {},
     "output_type": "display_data"
    },
    {
     "data": {
      "text/html": [
       "<pre>| Iteration | Passes   | Elapsed Time | Training-max_error | Training-rmse |</pre>"
      ],
      "text/plain": [
       "| Iteration | Passes   | Elapsed Time | Training-max_error | Training-rmse |"
      ]
     },
     "metadata": {},
     "output_type": "display_data"
    },
    {
     "data": {
      "text/html": [
       "<pre>+-----------+----------+--------------+--------------------+---------------+</pre>"
      ],
      "text/plain": [
       "+-----------+----------+--------------+--------------------+---------------+"
      ]
     },
     "metadata": {},
     "output_type": "display_data"
    },
    {
     "data": {
      "text/html": [
       "<pre>| 1         | 2        | 0.004000     | 4349521.926170     | 262943.613754 |</pre>"
      ],
      "text/plain": [
       "| 1         | 2        | 0.004000     | 4349521.926170     | 262943.613754 |"
      ]
     },
     "metadata": {},
     "output_type": "display_data"
    },
    {
     "data": {
      "text/html": [
       "<pre>+-----------+----------+--------------+--------------------+---------------+</pre>"
      ],
      "text/plain": [
       "+-----------+----------+--------------+--------------------+---------------+"
      ]
     },
     "metadata": {},
     "output_type": "display_data"
    },
    {
     "data": {
      "text/html": [
       "<pre>SUCCESS: Optimal solution found.</pre>"
      ],
      "text/plain": [
       "SUCCESS: Optimal solution found."
      ]
     },
     "metadata": {},
     "output_type": "display_data"
    },
    {
     "data": {
      "text/html": [
       "<pre></pre>"
      ],
      "text/plain": []
     },
     "metadata": {},
     "output_type": "display_data"
    }
   ],
   "source": [
    "sqft_model = graphlab.linear_regression.create(train_data, target=\"price\", features=sqft_feature, validation_set=None)"
   ]
  },
  {
   "cell_type": "code",
   "execution_count": 34,
   "metadata": {
    "collapsed": false
   },
   "outputs": [
    {
     "data": {
      "text/html": [
       "<pre>Linear regression:</pre>"
      ],
      "text/plain": [
       "Linear regression:"
      ]
     },
     "metadata": {},
     "output_type": "display_data"
    },
    {
     "data": {
      "text/html": [
       "<pre>--------------------------------------------------------</pre>"
      ],
      "text/plain": [
       "--------------------------------------------------------"
      ]
     },
     "metadata": {},
     "output_type": "display_data"
    },
    {
     "data": {
      "text/html": [
       "<pre>Number of examples          : 17384</pre>"
      ],
      "text/plain": [
       "Number of examples          : 17384"
      ]
     },
     "metadata": {},
     "output_type": "display_data"
    },
    {
     "data": {
      "text/html": [
       "<pre>Number of features          : 6</pre>"
      ],
      "text/plain": [
       "Number of features          : 6"
      ]
     },
     "metadata": {},
     "output_type": "display_data"
    },
    {
     "data": {
      "text/html": [
       "<pre>Number of unpacked features : 6</pre>"
      ],
      "text/plain": [
       "Number of unpacked features : 6"
      ]
     },
     "metadata": {},
     "output_type": "display_data"
    },
    {
     "data": {
      "text/html": [
       "<pre>Number of coefficients    : 115</pre>"
      ],
      "text/plain": [
       "Number of coefficients    : 115"
      ]
     },
     "metadata": {},
     "output_type": "display_data"
    },
    {
     "data": {
      "text/html": [
       "<pre>Starting Newton Method</pre>"
      ],
      "text/plain": [
       "Starting Newton Method"
      ]
     },
     "metadata": {},
     "output_type": "display_data"
    },
    {
     "data": {
      "text/html": [
       "<pre>--------------------------------------------------------</pre>"
      ],
      "text/plain": [
       "--------------------------------------------------------"
      ]
     },
     "metadata": {},
     "output_type": "display_data"
    },
    {
     "data": {
      "text/html": [
       "<pre>+-----------+----------+--------------+--------------------+---------------+</pre>"
      ],
      "text/plain": [
       "+-----------+----------+--------------+--------------------+---------------+"
      ]
     },
     "metadata": {},
     "output_type": "display_data"
    },
    {
     "data": {
      "text/html": [
       "<pre>| Iteration | Passes   | Elapsed Time | Training-max_error | Training-rmse |</pre>"
      ],
      "text/plain": [
       "| Iteration | Passes   | Elapsed Time | Training-max_error | Training-rmse |"
      ]
     },
     "metadata": {},
     "output_type": "display_data"
    },
    {
     "data": {
      "text/html": [
       "<pre>+-----------+----------+--------------+--------------------+---------------+</pre>"
      ],
      "text/plain": [
       "+-----------+----------+--------------+--------------------+---------------+"
      ]
     },
     "metadata": {},
     "output_type": "display_data"
    },
    {
     "data": {
      "text/html": [
       "<pre>| 1         | 2        | 0.019001     | 3763208.270523     | 181908.848367 |</pre>"
      ],
      "text/plain": [
       "| 1         | 2        | 0.019001     | 3763208.270523     | 181908.848367 |"
      ]
     },
     "metadata": {},
     "output_type": "display_data"
    },
    {
     "data": {
      "text/html": [
       "<pre>+-----------+----------+--------------+--------------------+---------------+</pre>"
      ],
      "text/plain": [
       "+-----------+----------+--------------+--------------------+---------------+"
      ]
     },
     "metadata": {},
     "output_type": "display_data"
    },
    {
     "data": {
      "text/html": [
       "<pre>SUCCESS: Optimal solution found.</pre>"
      ],
      "text/plain": [
       "SUCCESS: Optimal solution found."
      ]
     },
     "metadata": {},
     "output_type": "display_data"
    },
    {
     "data": {
      "text/html": [
       "<pre></pre>"
      ],
      "text/plain": []
     },
     "metadata": {},
     "output_type": "display_data"
    }
   ],
   "source": [
    "my_features_model = graphlab.linear_regression.create(train_data, target=\"price\", features=my_features, validation_set=None)"
   ]
  },
  {
   "cell_type": "code",
   "execution_count": 35,
   "metadata": {
    "collapsed": false
   },
   "outputs": [
    {
     "name": "stdout",
     "output_type": "stream",
     "text": [
      "{'max_error': 4143550.8825285938, 'rmse': 255191.02870527358}\n",
      "{'max_error': 3486584.509381705, 'rmse': 179542.4333126903}\n"
     ]
    }
   ],
   "source": [
    "print sqft_model.evaluate(test_data)\n",
    "print my_features_model.evaluate(test_data)"
   ]
  },
  {
   "cell_type": "code",
   "execution_count": 13,
   "metadata": {
    "collapsed": false
   },
   "outputs": [
    {
     "data": {
      "application/javascript": [
       "$(\"head\").append($(\"<link/>\").attr({\n",
       "  rel:  \"stylesheet\",\n",
       "  type: \"text/css\",\n",
       "  href: \"//cdnjs.cloudflare.com/ajax/libs/font-awesome/4.1.0/css/font-awesome.min.css\"\n",
       "}));\n",
       "$(\"head\").append($(\"<link/>\").attr({\n",
       "  rel:  \"stylesheet\",\n",
       "  type: \"text/css\",\n",
       "  href: \"https://static.turi.com/products/graphlab-create/2.1/canvas/css/canvas.css\"\n",
       "}));\n",
       "\n",
       "            (function(){\n",
       "\n",
       "                var e = null;\n",
       "                if (typeof element == 'undefined') {\n",
       "                    var scripts = document.getElementsByTagName('script');\n",
       "                    var thisScriptTag = scripts[scripts.length-1];\n",
       "                    var parentDiv = thisScriptTag.parentNode;\n",
       "                    e = document.createElement('div');\n",
       "                    parentDiv.appendChild(e);\n",
       "                } else {\n",
       "                    e = element[0];\n",
       "                }\n",
       "\n",
       "                if (typeof requirejs !== 'undefined') {\n",
       "                    // disable load timeout; ipython_app.js is large and can take a while to load.\n",
       "                    requirejs.config({waitSeconds: 0});\n",
       "                }\n",
       "\n",
       "                require(['https://static.turi.com/products/graphlab-create/2.1/canvas/js/ipython_app.js'], function(IPythonApp){\n",
       "                    var app = new IPythonApp();\n",
       "                    app.attachView('sframe','Plots', {\"selected_variable\": {\"name\": [\"sales\"], \"descriptives\": {\"rows\": 21613, \"columns\": 21}, \"view_component\": \"Plots\", \"view_file\": \"sframe\", \"view_params\": {\"y\": \"price\", \"x\": \"zipcode\", \"columns\": [\"id\", \"date\", \"price\", \"bedrooms\", \"bathrooms\", \"sqft_living\", \"sqft_lot\", \"floors\", \"waterfront\", \"view\", \"condition\", \"grade\", \"sqft_above\", \"sqft_basement\", \"yr_built\", \"yr_renovated\", \"zipcode\", \"lat\", \"long\", \"sqft_living15\", \"sqft_lot15\"], \"view\": \"BoxWhisker Plot\"}, \"view_components\": [\"Summary\", \"Table\", \"Bar Chart\", \"BoxWhisker Plot\", \"Line Chart\", \"Scatter Plot\", \"Heat Map\", \"Plots\"], \"type\": \"SFrame\", \"columns\": [{\"dtype\": \"str\", \"name\": \"id\"}, {\"dtype\": \"datetime\", \"name\": \"date\"}, {\"dtype\": \"int\", \"name\": \"price\"}, {\"dtype\": \"str\", \"name\": \"bedrooms\"}, {\"dtype\": \"str\", \"name\": \"bathrooms\"}, {\"dtype\": \"int\", \"name\": \"sqft_living\"}, {\"dtype\": \"int\", \"name\": \"sqft_lot\"}, {\"dtype\": \"str\", \"name\": \"floors\"}, {\"dtype\": \"int\", \"name\": \"waterfront\"}, {\"dtype\": \"int\", \"name\": \"view\"}, {\"dtype\": \"int\", \"name\": \"condition\"}, {\"dtype\": \"int\", \"name\": \"grade\"}, {\"dtype\": \"int\", \"name\": \"sqft_above\"}, {\"dtype\": \"int\", \"name\": \"sqft_basement\"}, {\"dtype\": \"int\", \"name\": \"yr_built\"}, {\"dtype\": \"int\", \"name\": \"yr_renovated\"}, {\"dtype\": \"str\", \"name\": \"zipcode\"}, {\"dtype\": \"float\", \"name\": \"lat\"}, {\"dtype\": \"float\", \"name\": \"long\"}, {\"dtype\": \"float\", \"name\": \"sqft_living15\"}, {\"dtype\": \"float\", \"name\": \"sqft_lot15\"}], \"column_identifiers\": [\"bathrooms\", \"sqft_living15\", \"sqft_above\", \"grade\", \"yr_built\", \"price\", \"bedrooms\", \"zipcode\", \"long\", \"id\", \"sqft_lot15\", \"sqft_living\", \"floors\", \"sqft_lot\", \"date\", \"waterfront\", \"sqft_basement\", \"yr_renovated\", \"lat\", \"condition\", \"view\"]}, \"complete\": 1, \"ipython\": true, \"progress\": 1.0, \"data\": {\"grouped\": [[\"98001\", [100000.0, 115000.0, 180000.0, 184000.0, 215000.0, 260000.0, 320000.0, 420000.0, 427000.0, 625000.0, 850000.0]], [\"98002\", [95000.0, 111300.0, 160000.0, 163500.0, 199950.0, 235000.0, 269000.0, 298900.0, 300000.0, 370000.0, 389000.0]], [\"98003\", [128000.0, 152500.0, 199000.0, 200000.0, 229000.0, 267950.0, 333000.0, 420000.0, 429900.0, 740000.0, 950000.0]], [\"98004\", [425000.0, 595000.0, 695000.0, 720000.0, 845000.0, 1150000.0, 1691000.0, 2150000.0, 2200000.0, 3800000.0, 7062500.0]], [\"98005\", [400000.0, 411100.0, 542500.0, 549000.0, 638700.0, 768500.0, 915000.0, 1110000.0, 1125000.0, 1900000.0, 1960000.0]], [\"98006\", [247500.0, 295000.0, 450000.0, 455000.0, 575000.0, 760369.0, 978000.0, 1380000.0, 1400000.0, 2525000.0, 4208000.0]], [\"98007\", [295000.0, 330000.0, 415500.0, 419000.0, 465000.0, 555000.0, 730000.0, 900000.0, 907500.0, 1229000.0, 1315000.0]], [\"98008\", [250000.0, 277700.0, 405000.0, 415000.0, 465000.0, 545000.0, 660000.0, 850000.0, 899000.0, 3300000.0, 3567000.0]], [\"98010\", [135000.0, 162000.0, 208500.0, 212644.0, 257000.0, 360000.0, 600000.0, 712000.0, 720000.0, 935000.0, 935000.0]], [\"98011\", [245500.0, 260000.0, 347000.0, 361000.0, 411800.0, 470000.0, 550000.0, 632000.0, 650000.0, 870000.0, 1075000.0]], [\"98014\", [80000.0, 134000.0, 167000.0, 180000.0, 309000.0, 415000.0, 539000.0, 739000.0, 755000.0, 1610000.0, 1680000.0]], [\"98019\", [119500.0, 170000.0, 289275.0, 299950.0, 330000.0, 402500.0, 500000.0, 570000.0, 570000.0, 979500.0, 1015000.0]], [\"98022\", [75000.0, 152900.0, 199990.0, 200000.0, 235000.0, 280000.0, 350000.0, 475000.0, 487000.0, 750000.0, 858000.0]], [\"98023\", [86500.0, 115000.0, 188000.0, 193000.0, 224097.0, 268450.0, 316500.0, 402500.0, 415000.0, 629000.0, 1275000.0]], [\"98024\", [142000.0, 142000.0, 258000.0, 260000.0, 340000.0, 460000.0, 700000.0, 997950.0, 1065000.0, 1862000.0, 1862000.0]], [\"98027\", [130000.0, 240000.0, 352499.0, 361000.0, 450000.0, 571000.0, 716500.0, 865000.0, 890000.0, 1800000.0, 2700000.0]], [\"98028\", [160000.0, 196000.0, 300000.0, 310000.0, 379950.0, 445000.0, 526750.0, 610000.0, 619990.0, 1120000.0, 1600000.0]], [\"98029\", [285000.0, 310000.0, 413565.0, 420000.0, 485000.0, 575000.0, 690000.0, 795000.0, 812000.0, 1450000.0, 2200000.0]], [\"98030\", [120000.0, 140000.0, 213400.0, 220000.0, 249950.0, 282510.0, 339950.0, 380000.0, 386000.0, 491000.0, 565000.0]], [\"98031\", [147500.0, 152000.0, 223000.0, 230000.0, 252000.0, 288400.0, 327500.0, 377000.0, 382500.0, 680000.0, 800000.0]], [\"98032\", [85000.0, 85000.0, 165000.0, 169000.0, 221700.0, 249000.0, 285000.0, 321000.0, 324900.0, 400000.0, 545000.0]], [\"98033\", [130000.0, 305000.0, 425000.0, 437500.0, 535000.0, 678700.0, 902000.0, 1339000.0, 1378000.0, 2650000.0, 5110800.0]], [\"98034\", [90000.0, 257000.0, 330000.0, 335000.0, 387000.0, 445950.0, 525000.0, 749950.0, 799950.0, 2125000.0, 3120000.0]], [\"98038\", [110000.0, 176000.0, 240000.0, 245000.0, 285000.0, 342000.0, 410000.0, 533000.0, 540000.0, 849000.0, 1350000.0]], [\"98039\", [787500.0, 787500.0, 940000.0, 1000000.0, 1398000.0, 1905000.0, 2575000.0, 3640900.0, 3640900.0, 6885000.0, 6885000.0]], [\"98040\", [500000.0, 550000.0, 685000.0, 698000.0, 821000.0, 994000.0, 1387000.0, 1815000.0, 1900000.0, 3850000.0, 5300000.0]], [\"98042\", [105000.0, 132825.0, 200000.0, 204000.0, 240000.0, 292500.0, 359950.0, 444900.0, 450000.0, 734000.0, 859000.0]], [\"98045\", [175000.0, 189000.0, 259000.0, 271000.0, 305000.0, 399500.0, 495000.0, 665000.0, 688000.0, 1075000.0, 1950000.0]], [\"98052\", [225000.0, 315000.0, 425000.0, 432100.0, 509250.0, 615000.0, 751000.0, 852500.0, 872750.0, 1299888.0, 2200000.0]], [\"98053\", [170000.0, 300000.0, 400000.0, 405000.0, 485000.0, 635000.0, 790500.0, 955990.0, 975000.0, 1769000.0, 2280000.0]], [\"98055\", [100000.0, 126000.0, 192000.0, 197500.0, 240000.0, 295000.0, 350000.0, 430000.0, 440000.0, 580000.0, 631000.0]], [\"98056\", [139000.0, 155000.0, 230000.0, 231500.0, 289000.0, 380000.0, 510000.0, 635000.0, 640000.0, 980000.0, 3000000.0]], [\"98058\", [95000.0, 144000.0, 225000.0, 230000.0, 285000.0, 335000.0, 392000.0, 475000.0, 485000.0, 790000.0, 1500000.0]], [\"98059\", [172500.0, 217000.0, 291375.0, 294500.0, 340000.0, 435000.0, 552500.0, 751000.0, 785000.0, 1300000.0, 1780000.0]], [\"98065\", [170000.0, 208000.0, 323000.0, 335000.0, 424950.0, 500000.0, 619000.0, 710000.0, 723000.0, 1145000.0, 1998000.0]], [\"98070\", [160000.0, 181000.0, 280000.0, 285000.0, 340000.0, 465000.0, 575000.0, 729000.0, 730000.0, 1350000.0, 1379900.0]], [\"98072\", [200000.0, 275000.0, 357823.0, 365000.0, 422800.0, 515000.0, 642860.0, 879000.0, 905000.0, 1350000.0, 1565000.0]], [\"98074\", [280000.0, 325000.0, 420000.0, 434900.0, 532000.0, 642000.0, 798000.0, 922755.0, 929000.0, 1675000.0, 3075000.0]], [\"98075\", [406430.0, 432000.0, 545000.0, 550000.0, 641000.0, 739999.0, 870000.0, 1060000.0, 1062500.0, 2000000.0, 3200000.0]], [\"98077\", [250000.0, 274975.0, 335000.0, 353000.0, 510000.0, 654950.0, 835000.0, 950000.0, 985000.0, 1820000.0, 1920000.0]], [\"98092\", [90000.0, 148226.0, 210000.0, 216000.0, 263950.0, 309780.0, 379500.0, 471275.0, 480000.0, 835000.0, 930000.0]], [\"98102\", [330000.0, 350000.0, 440000.0, 475000.0, 575000.0, 720000.0, 979700.0, 1440000.0, 1443917.0, 2479000.0, 7700000.0]], [\"98103\", [238000.0, 259250.0, 352950.0, 355000.0, 432000.0, 550000.0, 695000.0, 830000.0, 850000.0, 1350000.0, 1695000.0]], [\"98105\", [380000.0, 395000.0, 483000.0, 485000.0, 550000.0, 675000.0, 1005000.0, 1415000.0, 1482500.0, 2555000.0, 3650000.0]], [\"98106\", [90000.0, 107000.0, 208400.0, 210000.0, 260000.0, 315000.0, 366000.0, 426000.0, 435000.0, 625000.0, 795000.0]], [\"98107\", [290000.0, 356000.0, 425000.0, 430000.0, 470000.0, 529950.0, 630000.0, 752500.0, 769950.0, 1205000.0, 2945000.0]], [\"98108\", [90000.0, 130000.0, 230000.0, 230000.0, 284000.0, 345000.0, 425000.0, 491000.0, 500000.0, 635000.0, 640000.0]], [\"98109\", [216650.0, 216650.0, 478000.0, 479000.0, 620000.0, 736000.0, 1000000.0, 1450000.0, 1450000.0, 2900000.0, 3200000.0]], [\"98112\", [169317.0, 350000.0, 515000.0, 524000.0, 680000.0, 915000.0, 1328000.0, 1975000.0, 2048000.0, 3000000.0, 3400000.0]], [\"98115\", [200000.0, 289500.0, 395000.0, 399000.0, 455000.0, 567000.0, 719000.0, 897000.0, 925000.0, 1500000.0, 2300000.0]], [\"98116\", [130000.0, 252000.0, 386950.0, 390000.0, 460000.0, 565500.0, 703000.0, 930000.0, 950000.0, 1598888.0, 2050000.0]], [\"98117\", [125000.0, 280000.0, 375000.0, 390000.0, 450000.0, 544000.0, 657500.0, 825000.0, 850000.0, 1275000.0, 1370000.0]], [\"98118\", [109000.0, 155000.0, 221000.0, 226000.0, 289000.0, 367500.0, 476500.0, 665000.0, 680000.0, 1309500.0, 2903000.0]], [\"98119\", [300523.0, 365000.0, 485000.0, 490000.0, 600000.0, 749950.0, 940000.0, 1320000.0, 1330000.0, 2630000.0, 3065000.0]], [\"98122\", [202000.0, 260000.0, 375000.0, 385000.0, 450000.0, 574000.0, 720000.0, 920000.0, 925000.0, 1850000.0, 2050000.0]], [\"98125\", [175000.0, 228000.0, 303697.0, 310000.0, 357250.0, 425000.0, 518000.0, 675000.0, 689000.0, 1335000.0, 2050000.0]], [\"98126\", [110000.0, 183000.0, 250000.0, 255000.0, 320000.0, 396500.0, 485000.0, 643500.0, 661000.0, 901000.0, 1085000.0]], [\"98133\", [130000.0, 210000.0, 275000.0, 277500.0, 318000.0, 375000.0, 435000.0, 507000.0, 518000.0, 729953.0, 808100.0]], [\"98136\", [200000.0, 229050.0, 340000.0, 345000.0, 398000.0, 489950.0, 660000.0, 838000.0, 850000.0, 1662000.0, 2230000.0]], [\"98144\", [181000.0, 230000.0, 325000.0, 327000.0, 374950.0, 450000.0, 666000.0, 970000.0, 1039000.0, 2450000.0, 3600000.0]], [\"98146\", [82000.0, 104950.0, 158800.0, 175000.0, 229500.0, 307000.0, 409000.0, 605000.0, 665900.0, 1250000.0, 1410000.0]], [\"98148\", [105500.0, 105500.0, 193000.0, 193000.0, 240000.0, 278000.0, 319990.0, 375000.0, 375000.0, 600600.0, 600600.0]], [\"98155\", [153000.0, 195000.0, 267800.0, 270000.0, 315000.0, 375000.0, 460000.0, 590000.0, 600000.0, 1680000.0, 4500000.0]], [\"98166\", [100000.0, 129888.0, 220000.0, 229000.0, 292000.0, 390000.0, 540500.0, 755000.0, 770000.0, 1899000.0, 2510000.0]], [\"98168\", [78000.0, 82500.0, 150550.0, 158000.0, 199950.0, 235000.0, 285000.0, 325000.0, 327200.0, 424305.0, 600000.0]], [\"98177\", [245560.0, 276000.0, 355950.0, 367500.0, 427000.0, 554000.0, 749950.0, 1075000.0, 1200000.0, 2880500.0, 3800000.0]], [\"98178\", [90000.0, 119900.0, 180000.0, 188000.0, 223000.0, 279000.0, 350000.0, 450000.0, 460000.0, 869000.0, 1700000.0]], [\"98188\", [110000.0, 110700.0, 179000.0, 179950.0, 230000.0, 265000.0, 335000.0, 400200.0, 408000.0, 706000.0, 707000.0]], [\"98198\", [95000.0, 120000.0, 174500.0, 175000.0, 216500.0, 265000.0, 340000.0, 455000.0, 475000.0, 950000.0, 1350000.0]], [\"98199\", [323000.0, 334000.0, 419000.0, 425000.0, 535000.0, 689800.0, 950000.0, 1289000.0, 1300000.0, 2160000.0, 3200000.0]]], \"omitted\": 0}, \"columns\": [{\"dtype\": \"str\", \"name\": \"id\"}, {\"dtype\": \"datetime\", \"name\": \"date\"}, {\"dtype\": \"int\", \"name\": \"price\"}, {\"dtype\": \"str\", \"name\": \"bedrooms\"}, {\"dtype\": \"str\", \"name\": \"bathrooms\"}, {\"dtype\": \"int\", \"name\": \"sqft_living\"}, {\"dtype\": \"int\", \"name\": \"sqft_lot\"}, {\"dtype\": \"str\", \"name\": \"floors\"}, {\"dtype\": \"int\", \"name\": \"waterfront\"}, {\"dtype\": \"int\", \"name\": \"view\"}, {\"dtype\": \"int\", \"name\": \"condition\"}, {\"dtype\": \"int\", \"name\": \"grade\"}, {\"dtype\": \"int\", \"name\": \"sqft_above\"}, {\"dtype\": \"int\", \"name\": \"sqft_basement\"}, {\"dtype\": \"int\", \"name\": \"yr_built\"}, {\"dtype\": \"int\", \"name\": \"yr_renovated\"}, {\"dtype\": \"str\", \"name\": \"zipcode\"}, {\"dtype\": \"float\", \"name\": \"lat\"}, {\"dtype\": \"float\", \"name\": \"long\"}, {\"dtype\": \"float\", \"name\": \"sqft_living15\"}, {\"dtype\": \"float\", \"name\": \"sqft_lot15\"}]}, e);\n",
       "                });\n",
       "            })();\n",
       "        "
      ]
     },
     "metadata": {},
     "output_type": "display_data"
    }
   ],
   "source": [
    "sales.show(view=\"BoxWhisker Plot\", x=\"zipcode\", y=\"price\")"
   ]
  },
  {
   "cell_type": "code",
   "execution_count": 41,
   "metadata": {
    "collapsed": false
   },
   "outputs": [
    {
     "name": "stdout",
     "output_type": "stream",
     "text": [
      "2160606.6\n"
     ]
    }
   ],
   "source": [
    "# 1. Selection and summary statistics\n",
    "# take sales data, select only houses with zipcode corresponding to the highest average price, compute average price\n",
    "highest_price_houses = sales[sales[\"zipcode\"]==\"98039\"]\n",
    "print highest_price_houses[\"price\"].mean()"
   ]
  },
  {
   "cell_type": "code",
   "execution_count": 42,
   "metadata": {
    "collapsed": false
   },
   "outputs": [
    {
     "name": "stdout",
     "output_type": "stream",
     "text": [
      "803719.532407\n"
     ]
    }
   ],
   "source": [
    "# test avg price with other zipcode\n",
    "example_houses = sales[sales[\"zipcode\"]==\"98033\"]\n",
    "print example_houses[\"price\"].mean()"
   ]
  },
  {
   "cell_type": "code",
   "execution_count": 43,
   "metadata": {
    "collapsed": false
   },
   "outputs": [
    {
     "name": "stdout",
     "output_type": "stream",
     "text": [
      "21\n",
      "21613\n"
     ]
    }
   ],
   "source": [
    "# get total number of houses\n",
    "print sales.num_cols()\n",
    "print sales.num_rows()"
   ]
  },
  {
   "cell_type": "code",
   "execution_count": 44,
   "metadata": {
    "collapsed": false
   },
   "outputs": [
    {
     "name": "stdout",
     "output_type": "stream",
     "text": [
      "21\n",
      "9118\n"
     ]
    }
   ],
   "source": [
    "# 2. Filtering data\n",
    "# using logical filters, select houses with \"sqft_living\" > 2000 and <= 4000, compute fraction of houses in this range\n",
    "specified_sqft_houses = sales[(sales[\"sqft_living\"] > 2000) & (sales[\"sqft_living\"] <= 4000)]\n",
    "print specified_sqft_houses.num_cols()\n",
    "print specified_sqft_houses.num_rows()"
   ]
  },
  {
   "cell_type": "code",
   "execution_count": 45,
   "metadata": {
    "collapsed": false
   },
   "outputs": [
    {
     "name": "stdout",
     "output_type": "stream",
     "text": [
      "0.421875722945\n"
     ]
    }
   ],
   "source": [
    "print float(9118) / float(21613)"
   ]
  },
  {
   "cell_type": "code",
   "execution_count": 46,
   "metadata": {
    "collapsed": true
   },
   "outputs": [],
   "source": [
    "# 3. Building a regression model with several more features\n",
    "advanced_features = [\n",
    "'bedrooms', 'bathrooms', 'sqft_living', 'sqft_lot', 'floors', 'zipcode',\n",
    "'condition', # condition of house\n",
    "'grade', # measure of quality of construction\n",
    "'waterfront', # waterfront property\n",
    "'view', # type of view\n",
    "'sqft_above', # square feet above ground\n",
    "'sqft_basement', # square feet in basement\n",
    "'yr_built', # the year built\n",
    "'yr_renovated', # the year renovated\n",
    "'lat', 'long', # the lat-long of the parcel\n",
    "'sqft_living15', # average sq.ft. of 15 nearest neighbors\n",
    "'sqft_lot15', # average lot size of 15 nearest neighbors \n",
    "]"
   ]
  },
  {
   "cell_type": "code",
   "execution_count": 47,
   "metadata": {
    "collapsed": false
   },
   "outputs": [
    {
     "data": {
      "text/html": [
       "<pre>Linear regression:</pre>"
      ],
      "text/plain": [
       "Linear regression:"
      ]
     },
     "metadata": {},
     "output_type": "display_data"
    },
    {
     "data": {
      "text/html": [
       "<pre>--------------------------------------------------------</pre>"
      ],
      "text/plain": [
       "--------------------------------------------------------"
      ]
     },
     "metadata": {},
     "output_type": "display_data"
    },
    {
     "data": {
      "text/html": [
       "<pre>Number of examples          : 17384</pre>"
      ],
      "text/plain": [
       "Number of examples          : 17384"
      ]
     },
     "metadata": {},
     "output_type": "display_data"
    },
    {
     "data": {
      "text/html": [
       "<pre>Number of features          : 18</pre>"
      ],
      "text/plain": [
       "Number of features          : 18"
      ]
     },
     "metadata": {},
     "output_type": "display_data"
    },
    {
     "data": {
      "text/html": [
       "<pre>Number of unpacked features : 18</pre>"
      ],
      "text/plain": [
       "Number of unpacked features : 18"
      ]
     },
     "metadata": {},
     "output_type": "display_data"
    },
    {
     "data": {
      "text/html": [
       "<pre>Number of coefficients    : 127</pre>"
      ],
      "text/plain": [
       "Number of coefficients    : 127"
      ]
     },
     "metadata": {},
     "output_type": "display_data"
    },
    {
     "data": {
      "text/html": [
       "<pre>Starting Newton Method</pre>"
      ],
      "text/plain": [
       "Starting Newton Method"
      ]
     },
     "metadata": {},
     "output_type": "display_data"
    },
    {
     "data": {
      "text/html": [
       "<pre>--------------------------------------------------------</pre>"
      ],
      "text/plain": [
       "--------------------------------------------------------"
      ]
     },
     "metadata": {},
     "output_type": "display_data"
    },
    {
     "data": {
      "text/html": [
       "<pre>+-----------+----------+--------------+--------------------+---------------+</pre>"
      ],
      "text/plain": [
       "+-----------+----------+--------------+--------------------+---------------+"
      ]
     },
     "metadata": {},
     "output_type": "display_data"
    },
    {
     "data": {
      "text/html": [
       "<pre>| Iteration | Passes   | Elapsed Time | Training-max_error | Training-rmse |</pre>"
      ],
      "text/plain": [
       "| Iteration | Passes   | Elapsed Time | Training-max_error | Training-rmse |"
      ]
     },
     "metadata": {},
     "output_type": "display_data"
    },
    {
     "data": {
      "text/html": [
       "<pre>+-----------+----------+--------------+--------------------+---------------+</pre>"
      ],
      "text/plain": [
       "+-----------+----------+--------------+--------------------+---------------+"
      ]
     },
     "metadata": {},
     "output_type": "display_data"
    },
    {
     "data": {
      "text/html": [
       "<pre>| 1         | 2        | 0.053003     | 3469012.450686     | 154580.940736 |</pre>"
      ],
      "text/plain": [
       "| 1         | 2        | 0.053003     | 3469012.450686     | 154580.940736 |"
      ]
     },
     "metadata": {},
     "output_type": "display_data"
    },
    {
     "data": {
      "text/html": [
       "<pre>+-----------+----------+--------------+--------------------+---------------+</pre>"
      ],
      "text/plain": [
       "+-----------+----------+--------------+--------------------+---------------+"
      ]
     },
     "metadata": {},
     "output_type": "display_data"
    },
    {
     "data": {
      "text/html": [
       "<pre>SUCCESS: Optimal solution found.</pre>"
      ],
      "text/plain": [
       "SUCCESS: Optimal solution found."
      ]
     },
     "metadata": {},
     "output_type": "display_data"
    },
    {
     "data": {
      "text/html": [
       "<pre></pre>"
      ],
      "text/plain": []
     },
     "metadata": {},
     "output_type": "display_data"
    }
   ],
   "source": [
    "advanced_features_model = graphlab.linear_regression.create(train_data, target=\"price\", features=advanced_features, validation_set=None)"
   ]
  },
  {
   "cell_type": "code",
   "execution_count": 48,
   "metadata": {
    "collapsed": false
   },
   "outputs": [
    {
     "name": "stdout",
     "output_type": "stream",
     "text": [
      "{'max_error': 4143550.8825285938, 'rmse': 255191.02870527358}\n",
      "{'max_error': 3486584.509381705, 'rmse': 179542.4333126903}\n",
      "{'max_error': 3556849.413858208, 'rmse': 156831.1168021901}\n"
     ]
    }
   ],
   "source": [
    "print sqft_model.evaluate(test_data)\n",
    "print my_features_model.evaluate(test_data)\n",
    "print advanced_features_model.evaluate(test_data)"
   ]
  },
  {
   "cell_type": "code",
   "execution_count": null,
   "metadata": {
    "collapsed": true
   },
   "outputs": [],
   "source": []
  }
 ],
 "metadata": {
  "kernelspec": {
   "display_name": "Python 2",
   "language": "python",
   "name": "python2"
  },
  "language_info": {
   "codemirror_mode": {
    "name": "ipython",
    "version": 2
   },
   "file_extension": ".py",
   "mimetype": "text/x-python",
   "name": "python",
   "nbconvert_exporter": "python",
   "pygments_lexer": "ipython2",
   "version": "2.7.11"
  }
 },
 "nbformat": 4,
 "nbformat_minor": 0
}
